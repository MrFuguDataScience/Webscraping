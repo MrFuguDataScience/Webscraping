{
 "cells": [
  {
   "cell_type": "markdown",
   "id": "8a5cc8eb",
   "metadata": {},
   "source": [
    "# `Possible Issues with Selenium Webdriver.Chrome`\n",
    "\n",
    "# <font color=red>Mr Fugu Data Science</font>\n",
    "\n",
    "# (｡◕‿◕｡)\n",
    "\n",
    "**`Purpose & Outocome:`**\n",
    "\n",
    "+ Establish a new connection and check the error message\n",
    "+ Options to fix & understand the issue\n",
    "+ Future options"
   ]
  },
  {
   "cell_type": "code",
   "execution_count": 2,
   "id": "37525bbe",
   "metadata": {},
   "outputs": [],
   "source": [
    "# Selenium 4:\n",
    "\n",
    "from selenium import webdriver\n",
    "\n",
    "# Starting/Stopping Driver: can specify ports or location but not remote access\n",
    "from selenium.webdriver.chrome.service import Service as ChromeService\n",
    "\n",
    "# Manages Binaries needed for WebDriver without installing anything directly\n",
    "from webdriver_manager.chrome import ChromeDriverManager\n",
    "\n",
    "# Allows searchs similar to beautiful soup: find_all\n",
    "from selenium.webdriver.common.by import By\n",
    "\n",
    "# Try to establish wait times for the page to load\n",
    "from selenium.webdriver.support.ui import WebDriverWait\n",
    "\n",
    "# Call Sleep Function to log time of operations\n",
    "import time\n",
    "\n",
    "# Random integer for more realistic timing for clicks, buttons and searches during scraping\n",
    "from random import randint"
   ]
  },
  {
   "cell_type": "code",
   "execution_count": 3,
   "id": "3ba0f31e",
   "metadata": {},
   "outputs": [
    {
     "data": {
      "text/plain": [
       "'4.10.0'"
      ]
     },
     "execution_count": 3,
     "metadata": {},
     "output_type": "execute_result"
    }
   ],
   "source": [
    "import selenium\n",
    "selenium.__version__"
   ]
  },
  {
   "cell_type": "code",
   "execution_count": 4,
   "id": "d63faf64",
   "metadata": {},
   "outputs": [
    {
     "ename": "ValueError",
     "evalue": "There is no such driver by url https://chromedriver.storage.googleapis.com/LATEST_RELEASE_115.0.5790",
     "output_type": "error",
     "traceback": [
      "\u001b[0;31m---------------------------------------------------------------------------\u001b[0m",
      "\u001b[0;31mValueError\u001b[0m                                Traceback (most recent call last)",
      "Cell \u001b[0;32mIn[4], line 16\u001b[0m\n\u001b[1;32m     13\u001b[0m job_\u001b[38;5;241m=\u001b[39m\u001b[38;5;124m'\u001b[39m\u001b[38;5;124mData+Engineer\u001b[39m\u001b[38;5;124m'\u001b[39m\n\u001b[1;32m     14\u001b[0m location\u001b[38;5;241m=\u001b[39m\u001b[38;5;124m'\u001b[39m\u001b[38;5;124mWashington\u001b[39m\u001b[38;5;124m'\u001b[39m\n\u001b[0;32m---> 16\u001b[0m driver \u001b[38;5;241m=\u001b[39m webdriver\u001b[38;5;241m.\u001b[39mChrome(service\u001b[38;5;241m=\u001b[39mChromeService(\u001b[43mChromeDriverManager\u001b[49m\u001b[43m(\u001b[49m\u001b[43m)\u001b[49m\u001b[38;5;241;43m.\u001b[39;49m\u001b[43minstall\u001b[49m\u001b[43m(\u001b[49m\u001b[43m)\u001b[49m),\n\u001b[1;32m     17\u001b[0m                          options\u001b[38;5;241m=\u001b[39moption)\n\u001b[1;32m     20\u001b[0m \u001b[38;5;66;03m# driver = webdriver.Chrome(service=ChromeService(),\u001b[39;00m\n\u001b[1;32m     21\u001b[0m \u001b[38;5;66;03m#                          options=option)\u001b[39;00m\n\u001b[1;32m     24\u001b[0m driver\u001b[38;5;241m.\u001b[39mget(paginaton_url\u001b[38;5;241m.\u001b[39mformat(job_,location,\u001b[38;5;241m0\u001b[39m))\n",
      "File \u001b[0;32m/Library/Frameworks/Python.framework/Versions/3.10/lib/python3.10/site-packages/webdriver_manager/chrome.py:39\u001b[0m, in \u001b[0;36mChromeDriverManager.install\u001b[0;34m(self)\u001b[0m\n\u001b[1;32m     38\u001b[0m \u001b[38;5;28;01mdef\u001b[39;00m \u001b[38;5;21minstall\u001b[39m(\u001b[38;5;28mself\u001b[39m) \u001b[38;5;241m-\u001b[39m\u001b[38;5;241m>\u001b[39m \u001b[38;5;28mstr\u001b[39m:\n\u001b[0;32m---> 39\u001b[0m     driver_path \u001b[38;5;241m=\u001b[39m \u001b[38;5;28;43mself\u001b[39;49m\u001b[38;5;241;43m.\u001b[39;49m\u001b[43m_get_driver_path\u001b[49m\u001b[43m(\u001b[49m\u001b[38;5;28;43mself\u001b[39;49m\u001b[38;5;241;43m.\u001b[39;49m\u001b[43mdriver\u001b[49m\u001b[43m)\u001b[49m\n\u001b[1;32m     40\u001b[0m     os\u001b[38;5;241m.\u001b[39mchmod(driver_path, \u001b[38;5;241m0o755\u001b[39m)\n\u001b[1;32m     41\u001b[0m     \u001b[38;5;28;01mreturn\u001b[39;00m driver_path\n",
      "File \u001b[0;32m/Library/Frameworks/Python.framework/Versions/3.10/lib/python3.10/site-packages/webdriver_manager/core/manager.py:30\u001b[0m, in \u001b[0;36mDriverManager._get_driver_path\u001b[0;34m(self, driver)\u001b[0m\n\u001b[1;32m     27\u001b[0m \u001b[38;5;28;01mif\u001b[39;00m binary_path:\n\u001b[1;32m     28\u001b[0m     \u001b[38;5;28;01mreturn\u001b[39;00m binary_path\n\u001b[0;32m---> 30\u001b[0m file \u001b[38;5;241m=\u001b[39m \u001b[38;5;28mself\u001b[39m\u001b[38;5;241m.\u001b[39m_download_manager\u001b[38;5;241m.\u001b[39mdownload_file(\u001b[43mdriver\u001b[49m\u001b[38;5;241;43m.\u001b[39;49m\u001b[43mget_driver_download_url\u001b[49m\u001b[43m(\u001b[49m\u001b[43m)\u001b[49m)\n\u001b[1;32m     31\u001b[0m binary_path \u001b[38;5;241m=\u001b[39m \u001b[38;5;28mself\u001b[39m\u001b[38;5;241m.\u001b[39mdriver_cache\u001b[38;5;241m.\u001b[39msave_file_to_cache(driver, file)\n\u001b[1;32m     32\u001b[0m \u001b[38;5;28;01mreturn\u001b[39;00m binary_path\n",
      "File \u001b[0;32m/Library/Frameworks/Python.framework/Versions/3.10/lib/python3.10/site-packages/webdriver_manager/drivers/chrome.py:40\u001b[0m, in \u001b[0;36mChromeDriver.get_driver_download_url\u001b[0;34m(self)\u001b[0m\n\u001b[1;32m     39\u001b[0m \u001b[38;5;28;01mdef\u001b[39;00m \u001b[38;5;21mget_driver_download_url\u001b[39m(\u001b[38;5;28mself\u001b[39m):\n\u001b[0;32m---> 40\u001b[0m     driver_version_to_download \u001b[38;5;241m=\u001b[39m \u001b[38;5;28;43mself\u001b[39;49m\u001b[38;5;241;43m.\u001b[39;49m\u001b[43mget_driver_version_to_download\u001b[49m\u001b[43m(\u001b[49m\u001b[43m)\u001b[49m\n\u001b[1;32m     41\u001b[0m     os_type \u001b[38;5;241m=\u001b[39m \u001b[38;5;28mself\u001b[39m\u001b[38;5;241m.\u001b[39m_os_type\n\u001b[1;32m     42\u001b[0m     \u001b[38;5;66;03m# For Mac ARM CPUs after version 106.0.5249.61 the format of OS type changed\u001b[39;00m\n\u001b[1;32m     43\u001b[0m     \u001b[38;5;66;03m# to more unified \"mac_arm64\". For newer versions, it'll be \"mac_arm64\"\u001b[39;00m\n\u001b[1;32m     44\u001b[0m     \u001b[38;5;66;03m# by default, for lower versions we replace \"mac_arm64\" to old format - \"mac64_m1\".\u001b[39;00m\n",
      "File \u001b[0;32m/Library/Frameworks/Python.framework/Versions/3.10/lib/python3.10/site-packages/webdriver_manager/core/driver.py:51\u001b[0m, in \u001b[0;36mDriver.get_driver_version_to_download\u001b[0;34m(self)\u001b[0m\n\u001b[1;32m     45\u001b[0m \u001b[38;5;250m\u001b[39m\u001b[38;5;124;03m\"\"\"\u001b[39;00m\n\u001b[1;32m     46\u001b[0m \u001b[38;5;124;03mDownloads version from parameter if version not None or \"latest\".\u001b[39;00m\n\u001b[1;32m     47\u001b[0m \u001b[38;5;124;03mDownloads latest, if version is \"latest\" or browser could not been determined.\u001b[39;00m\n\u001b[1;32m     48\u001b[0m \u001b[38;5;124;03mDownloads determined browser version driver in all other ways as a bonus fallback for lazy users.\u001b[39;00m\n\u001b[1;32m     49\u001b[0m \u001b[38;5;124;03m\"\"\"\u001b[39;00m\n\u001b[1;32m     50\u001b[0m \u001b[38;5;28;01mif\u001b[39;00m \u001b[38;5;129;01mnot\u001b[39;00m \u001b[38;5;28mself\u001b[39m\u001b[38;5;241m.\u001b[39m_driver_to_download_version:\n\u001b[0;32m---> 51\u001b[0m     \u001b[38;5;28mself\u001b[39m\u001b[38;5;241m.\u001b[39m_driver_to_download_version \u001b[38;5;241m=\u001b[39m \u001b[38;5;28mself\u001b[39m\u001b[38;5;241m.\u001b[39m_version \u001b[38;5;28;01mif\u001b[39;00m \u001b[38;5;28mself\u001b[39m\u001b[38;5;241m.\u001b[39m_version \u001b[38;5;129;01mnot\u001b[39;00m \u001b[38;5;129;01min\u001b[39;00m (\u001b[38;5;28;01mNone\u001b[39;00m, \u001b[38;5;124m\"\u001b[39m\u001b[38;5;124mlatest\u001b[39m\u001b[38;5;124m\"\u001b[39m) \u001b[38;5;28;01melse\u001b[39;00m \u001b[38;5;28;43mself\u001b[39;49m\u001b[38;5;241;43m.\u001b[39;49m\u001b[43mget_latest_release_version\u001b[49m\u001b[43m(\u001b[49m\u001b[43m)\u001b[49m\n\u001b[1;32m     52\u001b[0m \u001b[38;5;28;01mreturn\u001b[39;00m \u001b[38;5;28mself\u001b[39m\u001b[38;5;241m.\u001b[39m_driver_to_download_version\n",
      "File \u001b[0;32m/Library/Frameworks/Python.framework/Versions/3.10/lib/python3.10/site-packages/webdriver_manager/drivers/chrome.py:62\u001b[0m, in \u001b[0;36mChromeDriver.get_latest_release_version\u001b[0;34m(self)\u001b[0m\n\u001b[1;32m     56\u001b[0m log(\u001b[38;5;124mf\u001b[39m\u001b[38;5;124m\"\u001b[39m\u001b[38;5;124mGet LATEST \u001b[39m\u001b[38;5;132;01m{\u001b[39;00m\u001b[38;5;28mself\u001b[39m\u001b[38;5;241m.\u001b[39m_name\u001b[38;5;132;01m}\u001b[39;00m\u001b[38;5;124m version for \u001b[39m\u001b[38;5;132;01m{\u001b[39;00m\u001b[38;5;28mself\u001b[39m\u001b[38;5;241m.\u001b[39m_browser_type\u001b[38;5;132;01m}\u001b[39;00m\u001b[38;5;124m\"\u001b[39m)\n\u001b[1;32m     57\u001b[0m latest_release_url \u001b[38;5;241m=\u001b[39m (\n\u001b[1;32m     58\u001b[0m     \u001b[38;5;28mself\u001b[39m\u001b[38;5;241m.\u001b[39m_latest_release_url\n\u001b[1;32m     59\u001b[0m     \u001b[38;5;28;01mif\u001b[39;00m (\u001b[38;5;28mself\u001b[39m\u001b[38;5;241m.\u001b[39m_version \u001b[38;5;241m==\u001b[39m \u001b[38;5;124m\"\u001b[39m\u001b[38;5;124mlatest\u001b[39m\u001b[38;5;124m\"\u001b[39m \u001b[38;5;129;01mor\u001b[39;00m determined_browser_version \u001b[38;5;129;01mis\u001b[39;00m \u001b[38;5;28;01mNone\u001b[39;00m)\n\u001b[1;32m     60\u001b[0m     \u001b[38;5;28;01melse\u001b[39;00m \u001b[38;5;124mf\u001b[39m\u001b[38;5;124m\"\u001b[39m\u001b[38;5;132;01m{\u001b[39;00m\u001b[38;5;28mself\u001b[39m\u001b[38;5;241m.\u001b[39m_latest_release_url\u001b[38;5;132;01m}\u001b[39;00m\u001b[38;5;124m_\u001b[39m\u001b[38;5;132;01m{\u001b[39;00mdetermined_browser_version\u001b[38;5;132;01m}\u001b[39;00m\u001b[38;5;124m\"\u001b[39m\n\u001b[1;32m     61\u001b[0m )\n\u001b[0;32m---> 62\u001b[0m resp \u001b[38;5;241m=\u001b[39m \u001b[38;5;28;43mself\u001b[39;49m\u001b[38;5;241;43m.\u001b[39;49m\u001b[43m_http_client\u001b[49m\u001b[38;5;241;43m.\u001b[39;49m\u001b[43mget\u001b[49m\u001b[43m(\u001b[49m\u001b[43murl\u001b[49m\u001b[38;5;241;43m=\u001b[39;49m\u001b[43mlatest_release_url\u001b[49m\u001b[43m)\u001b[49m\n\u001b[1;32m     63\u001b[0m \u001b[38;5;28;01mreturn\u001b[39;00m resp\u001b[38;5;241m.\u001b[39mtext\u001b[38;5;241m.\u001b[39mrstrip()\n",
      "File \u001b[0;32m/Library/Frameworks/Python.framework/Versions/3.10/lib/python3.10/site-packages/webdriver_manager/core/http.py:37\u001b[0m, in \u001b[0;36mWDMHttpClient.get\u001b[0;34m(self, url, **kwargs)\u001b[0m\n\u001b[1;32m     35\u001b[0m \u001b[38;5;28;01mexcept\u001b[39;00m exceptions\u001b[38;5;241m.\u001b[39mConnectionError:\n\u001b[1;32m     36\u001b[0m     \u001b[38;5;28;01mraise\u001b[39;00m \u001b[38;5;167;01mConnectionError\u001b[39;00m(\u001b[38;5;124mf\u001b[39m\u001b[38;5;124m\"\u001b[39m\u001b[38;5;124mCould not reach host. Are you offline?\u001b[39m\u001b[38;5;124m\"\u001b[39m)\n\u001b[0;32m---> 37\u001b[0m \u001b[38;5;28;43mself\u001b[39;49m\u001b[38;5;241;43m.\u001b[39;49m\u001b[43mvalidate_response\u001b[49m\u001b[43m(\u001b[49m\u001b[43mresp\u001b[49m\u001b[43m)\u001b[49m\n\u001b[1;32m     38\u001b[0m \u001b[38;5;28;01mif\u001b[39;00m wdm_progress_bar():\n\u001b[1;32m     39\u001b[0m     show_download_progress(resp)\n",
      "File \u001b[0;32m/Library/Frameworks/Python.framework/Versions/3.10/lib/python3.10/site-packages/webdriver_manager/core/http.py:16\u001b[0m, in \u001b[0;36mHttpClient.validate_response\u001b[0;34m(resp)\u001b[0m\n\u001b[1;32m     14\u001b[0m status_code \u001b[38;5;241m=\u001b[39m resp\u001b[38;5;241m.\u001b[39mstatus_code\n\u001b[1;32m     15\u001b[0m \u001b[38;5;28;01mif\u001b[39;00m status_code \u001b[38;5;241m==\u001b[39m \u001b[38;5;241m404\u001b[39m:\n\u001b[0;32m---> 16\u001b[0m     \u001b[38;5;28;01mraise\u001b[39;00m \u001b[38;5;167;01mValueError\u001b[39;00m(\u001b[38;5;124mf\u001b[39m\u001b[38;5;124m\"\u001b[39m\u001b[38;5;124mThere is no such driver by url \u001b[39m\u001b[38;5;132;01m{\u001b[39;00mresp\u001b[38;5;241m.\u001b[39murl\u001b[38;5;132;01m}\u001b[39;00m\u001b[38;5;124m\"\u001b[39m)\n\u001b[1;32m     17\u001b[0m \u001b[38;5;28;01melif\u001b[39;00m status_code \u001b[38;5;241m==\u001b[39m \u001b[38;5;241m401\u001b[39m:\n\u001b[1;32m     18\u001b[0m     \u001b[38;5;28;01mraise\u001b[39;00m \u001b[38;5;167;01mValueError\u001b[39;00m(\u001b[38;5;124mf\u001b[39m\u001b[38;5;124m\"\u001b[39m\u001b[38;5;124mAPI Rate limit exceeded. You have to add GH_TOKEN!!!\u001b[39m\u001b[38;5;124m\"\u001b[39m)\n",
      "\u001b[0;31mValueError\u001b[0m: There is no such driver by url https://chromedriver.storage.googleapis.com/LATEST_RELEASE_115.0.5790"
     ]
    }
   ],
   "source": [
    "# Allows you to cusotmize: ingonito mode, maximize window size, headless browser, disable certain features, etc\n",
    "option= webdriver.ChromeOptions()\n",
    "\n",
    "# Going undercover:\n",
    "option.add_argument(\"--incognito\")\n",
    "option.add_argument(\"--headless=new\")\n",
    "\n",
    "paginaton_url = 'https://www.indeed.com/jobs?q={}&l={}&radius=35&filter=0&sort=date&start={}'\n",
    "\n",
    "start = time.time()\n",
    "\n",
    "\n",
    "job_='Data+Engineer'\n",
    "location='Washington'\n",
    "\n",
    "driver = webdriver.Chrome(service=ChromeService(ChromeDriverManager().install()),\n",
    "                         options=option)\n",
    "\n",
    "\n",
    "# driver = webdriver.Chrome(service=ChromeService(),\n",
    "#                          options=option)\n",
    "\n",
    "\n",
    "driver.get(paginaton_url.format(job_,location,0))\n",
    "\n",
    "time.sleep(randint(2, 6))\n",
    "\n",
    "p=driver.find_element(By.CLASS_NAME,'jobsearch-JobCountAndSortPane-jobCount').text\n",
    "\n",
    "# Max number of pages for this search! There is a caveat described soon\n",
    "max_iter_pgs=int(p.split(' ')[0])//15 \n",
    "\n",
    "\n",
    "driver.quit() # Closing the browser we opened\n",
    "\n",
    "\n",
    "end = time.time()\n",
    "\n",
    "print(end - start,'seconds to complete action!')\n",
    "print('-----------------------')\n",
    "print('Max Iterable Pages for this search:',max_iter_pgs)"
   ]
  },
  {
   "cell_type": "markdown",
   "id": "bb40d498",
   "metadata": {},
   "source": [
    "# `Investigate this One-By-One: Troubleshooting`\n",
    "\n",
    "+ **First:** let's go to the chrome browser and find the current version we are on\n",
    "+ **Second:** Check out the [Chrome/Chromium Divers Official Download page]\n",
    "(https://chromedriver.chromium.org/downloads)\n",
    "+ Check this from Stackoverflow [Error using Specific Version Webdriver:ValueError: There is no such driver by url https://chromedriver.storage.googleapis.com/LATEST_RELEASE_115.0.5790 ](https://stackoverflow.com/questions/76724939/there-is-no-such-driver-by-url-https-chromedriver-storage-googleapis-com-lates)\n",
    "+ Work around options\n",
    "    + [Possible option 3rd party](https://github.com/seleniumbase/SeleniumBase)\n",
    "    + Disable Automatic Chrome Updates!\n",
    "    + Understand the basic background of Selenium Webdriver and change code"
   ]
  },
  {
   "cell_type": "code",
   "execution_count": 6,
   "id": "8d086d0c",
   "metadata": {},
   "outputs": [
    {
     "name": "stderr",
     "output_type": "stream",
     "text": [
      "[WDM] - Downloading: 100%|█████████████████| 8.29M/8.29M [00:00<00:00, 11.4MB/s]\n"
     ]
    },
    {
     "name": "stdout",
     "output_type": "stream",
     "text": [
      "11.941619873046875 seconds to complete action!\n",
      "-----------------------\n",
      "Max Iterable Pages for this search: 11\n"
     ]
    }
   ],
   "source": [
    "\n",
    "# Allows you to cusotmize: ingonito mode, maximize window size, headless browser, disable certain features, etc\n",
    "option= webdriver.ChromeOptions()\n",
    "\n",
    "# Going undercover:\n",
    "# option.add_argument(\"--incognito\")\n",
    "option.add_argument(\"--headless=new\")\n",
    "\n",
    "paginaton_url = 'https://www.indeed.com/jobs?q={}&l={}&radius=35&filter=0&sort=date&start={}'\n",
    "\n",
    "start = time.time()\n",
    "\n",
    "\n",
    "job_='Data+Engineer'\n",
    "location='Washington'\n",
    "\n",
    "\n",
    "# Alternate Version: 1\n",
    "driver = webdriver.Chrome(service=ChromeService(ChromeDriverManager(version=\"114.0.5735.90\").install()),\n",
    "                         options=option)\n",
    "\n",
    "\n",
    "driver.get(paginaton_url.format(job_,location,0))\n",
    "\n",
    "time.sleep(randint(2, 6))\n",
    "\n",
    "p=driver.find_element(By.CLASS_NAME,'jobsearch-JobCountAndSortPane-jobCount').text\n",
    "\n",
    "# Max number of pages for this search! There is a caveat described soon\n",
    "max_iter_pgs=int(p.split(' ')[0])//15 \n",
    "\n",
    "driver.quit() # Closing the browser we opened\n",
    "\n",
    "\n",
    "end = time.time()\n",
    "\n",
    "print(end - start,'seconds to complete action!')\n",
    "print('-----------------------')\n",
    "print('Max Iterable Pages for this search:',max_iter_pgs)\n"
   ]
  },
  {
   "cell_type": "markdown",
   "id": "92182931",
   "metadata": {},
   "source": [
    "# `Check Where the drivers are and what is inside:`"
   ]
  },
  {
   "cell_type": "code",
   "execution_count": null,
   "id": "914f84dd",
   "metadata": {},
   "outputs": [],
   "source": [
    "!~/.wdm"
   ]
  },
  {
   "cell_type": "markdown",
   "id": "e26173de",
   "metadata": {},
   "source": [
    "# What Happened Exactly?\n",
    "\n",
    "`webdriver.Chrome(service = ChromeService(ChromeDriverManager().install()),options=option)`\n",
    "This piece of code is calling the Chrome Driver to install a version which should be a newer/newest version. But we ended up with an error. In this section you can call the section where you have it downloaded but, since version control is an issue.\n",
    "\n",
    "`driver = webdriver.Chrome(ChromeDriverManager().install(),options=options)`\n",
    "\n",
    "Switching to this code will look for a relevant version for us to use and download it and we are off to work with the scraping.\n",
    "\n",
    "Lastly, when I adjusted for a specific version\n",
    "\n",
    "`driver = webdriver.Chrome(service=ChromeService(ChromeDriverManager(version=\"114.0.5735.90\").install()),options=option)`\n",
    "                         \n",
    "The code worked because this is a stable version and there is a driver for it to work as well.\n",
    "\n",
    "`-------------------------------------------------------`\n",
    "\n",
    "# `Short Talk About: Selenium Manager:`\n",
    "\n",
    "As of I think `Selenium 4.6` it has been easier with integration to start-up your workspace without all the workup that was once required. For example, if you have the drivers installed for `Firefox, Chrome or Edge` you can directly start working with Selenium.\n",
    "+ One of the biggest headaches comes from updating drivers and making the browser work every so often when you need to update a browser driver to work with the given browser.\n",
    "+ Now, Selenium will configure your browser drivers and join the `PATH` if it is not available for you without the trouble. \n",
    "    + This will let you run everything without further work-up usually.\n",
    "    + Assuming you already have one of the above Browsers installed prior.\n",
    "    \n",
    "+ In older versions of Selenium Version 4.6 and older you would need to explicitly call and download the drivers\n",
    "    + No more of that mess. Yay--\n",
    "    \n",
    "    \n",
    "# `Do You Need To Downgrade Chrome?`\n",
    "\n",
    "+ No Not exactly and not yet!\n",
    "\n"
   ]
  },
  {
   "cell_type": "code",
   "execution_count": null,
   "id": "c0900fb0",
   "metadata": {},
   "outputs": [],
   "source": [
    "# import selenium\n",
    "# !./selenium-manager --help\n",
    "# !./selenium-manager --browser chrome"
   ]
  },
  {
   "cell_type": "code",
   "execution_count": 7,
   "id": "b4960c20",
   "metadata": {},
   "outputs": [
    {
     "name": "stdout",
     "output_type": "stream",
     "text": [
      "26.578808069229126 seconds to complete action!\n",
      "-----------------------\n",
      "Max Iterable Pages for this search: 11\n"
     ]
    }
   ],
   "source": [
    "# Alternate Version But, seems slow. Maybe because it is searching and installing dependencies before moving on.\n",
    "\n",
    "from selenium import webdriver\n",
    "\n",
    "from selenium.webdriver.chrome.service import Service\n",
    "\n",
    "service = Service() # this is the important line of code!\n",
    "\n",
    "\n",
    "options = webdriver.ChromeOptions()\n",
    "options.add_argument(\"--headless=new\")\n",
    "\n",
    "\n",
    "driver = webdriver.Chrome(service=service, options=options)\n",
    "\n",
    "# driver = webdriver.Chrome(options=options)\n",
    "\n",
    "driver.get(paginaton_url.format(job_,location,0))\n",
    "\n",
    "time.sleep(randint(2, 6))\n",
    "\n",
    "p=driver.find_element(By.CLASS_NAME,'jobsearch-JobCountAndSortPane-jobCount').text\n",
    "\n",
    "# Max number of pages for this search! There is a caveat described soon\n",
    "max_iter_pgs=int(p.split(' ')[0])//15 \n",
    "\n",
    "driver.quit() # Closing the browser we opened\n",
    "\n",
    "\n",
    "end = time.time()\n",
    "\n",
    "print(end - start,'seconds to complete action!')\n",
    "print('-----------------------')\n",
    "print('Max Iterable Pages for this search:',max_iter_pgs)"
   ]
  },
  {
   "cell_type": "markdown",
   "id": "1c470dea",
   "metadata": {},
   "source": [
    "# `Lastly, before we depart today:`\n",
    "\n",
    "[Stackoverflow_Near Bottom](https://stackoverflow.com/questions/76727774/selenium-webdriver-chrome-115-stopped-working)"
   ]
  },
  {
   "cell_type": "markdown",
   "id": "d9f9fd4d",
   "metadata": {},
   "source": [
    "# Like, Share & <font color=red>SUB</font>scribe"
   ]
  },
  {
   "cell_type": "markdown",
   "id": "cd34dd82",
   "metadata": {},
   "source": [
    "# `Citations & Help:`\n",
    "\n",
    "# ◔̯◔\n",
    "\n",
    "https://stackoverflow.com/questions/76724939/there-is-no-such-driver-by-url-https-chromedriver-storage-googleapis-com-lates\n",
    "\n",
    "https://stackoverflow.com/questions/72868256/chromedrivermanager-install-doesnt-work-webdriver-manager\n",
    "\n",
    "https://www.webnots.com/7-ways-to-disable-automatic-chrome-update-in-windows-and-mac/\n",
    "\n",
    "https://www.selenium.dev/blog/2022/introducing-selenium-manager/\n",
    "\n",
    "https://github.com/seleniumbase/SeleniumBase (possible solution to latest_version error)\n",
    "\n",
    "https://stackoverflow.com/questions/76727774/selenium-webdriver-chrome-115-stopped-working\n",
    "\n",
    "https://medium.com/analytics-vidhya/webdriver-manager-resolve-compatibility-issues-in-selenium-python-bef18c204475"
   ]
  }
 ],
 "metadata": {
  "kernelspec": {
   "display_name": "Python 3 (ipykernel)",
   "language": "python",
   "name": "python3"
  },
  "language_info": {
   "codemirror_mode": {
    "name": "ipython",
    "version": 3
   },
   "file_extension": ".py",
   "mimetype": "text/x-python",
   "name": "python",
   "nbconvert_exporter": "python",
   "pygments_lexer": "ipython3",
   "version": "3.10.9"
  }
 },
 "nbformat": 4,
 "nbformat_minor": 5
}
